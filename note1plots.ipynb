{
 "cells": [
  {
   "cell_type": "markdown",
   "metadata": {},
   "source": [
    "  <h2> How to run this file </h2>\n",
    "  To run code in each cell,  use shift enter or tinker  with cell part of the bar menu above \n",
    "  You may come across run issues, look up online references or tinker and figure out, failure of the\n",
    "  code is not a big deal as you can always delete a file and start afresh.\n",
    "  <h2> Lecture-1 Plots </h2>\n",
    "   The ability to visualise behavior of system variables or data from an experiment is a very useful skill.\n",
    "   We shall discuss some frequenty occuring functions and their graphs."
   ]
  },
  {
   "cell_type": "markdown",
   "metadata": {},
   "source": [
    "Lines occur naturally in multiple applications, why?\n",
    "(1) They give shortest path between two points in a Euclidian plane.\n",
    "(2) Any curve is locally well approximated by a line.\n",
    "(3) Multiple engineering designs consists of linear motion."
   ]
  },
  {
   "cell_type": "markdown",
   "metadata": {},
   "source": [
    "Draw the line $2 x + 3 y = 4$. What was your strategy?"
   ]
  },
  {
   "cell_type": "code",
   "execution_count": null,
   "metadata": {
    "collapsed": true
   },
   "outputs": [],
   "source": [
    "import numpy as np                      # Python library for efficient numerical calculations\n",
    "import matplotlib.pyplot as plt         # Plot library"
   ]
  },
  {
   "cell_type": "code",
   "execution_count": null,
   "metadata": {},
   "outputs": [],
   "source": [
    "x = np.arange(-10, 10, 0.5)             # defining the x range and step size\n",
    "m1 = 2                                  # m1 is slope for line 1\n",
    "c1 = 3                                  # c1 is intercept for line\n",
    "def y(x,m,c):                                             # The definition of the line\n",
    "    return m*x + c\n",
    "plt.plot(x, y(x,m1,c1), 'b')          # Plotting the lines in blue\n",
    "plt.show() "
   ]
  },
  {
   "cell_type": "code",
   "execution_count": null,
   "metadata": {},
   "outputs": [],
   "source": [
    "x1 = np.arange(-3.1415, 3.1415, 0.1)             # defining the x range and step size\n",
    "y1 = np.sin(x1)\n",
    "plt.plot(x1, y1, 'g')          # Plotting the sine curve in green\n",
    "plt.show()"
   ]
  },
  {
   "cell_type": "code",
   "execution_count": null,
   "metadata": {},
   "outputs": [],
   "source": [
    "x2 = np.arange(-2, 2, 0.1)             # defining the x range and step size\n",
    "y2 = np.exp(x2)\n",
    "plt.plot(x2, y2, 'y')          # Plotting with points\n",
    "plt.show()"
   ]
  },
  {
   "cell_type": "code",
   "execution_count": null,
   "metadata": {},
   "outputs": [],
   "source": [
    "plt.plot(y2, x2, 'g')          # Plotting the logarith graph\n",
    "plt.show()"
   ]
  },
  {
   "cell_type": "code",
   "execution_count": null,
   "metadata": {},
   "outputs": [],
   "source": [
    "plt.plot(x2, y2, 'b', y2, x2, 'g')          # Plotting the graphs together\n",
    "plt.show()"
   ]
  }
 ],
 "metadata": {
  "kernelspec": {
   "display_name": "Python 3",
   "language": "python",
   "name": "python3"
  },
  "language_info": {
   "codemirror_mode": {
    "name": "ipython",
    "version": 3
   },
   "file_extension": ".py",
   "mimetype": "text/x-python",
   "name": "python",
   "nbconvert_exporter": "python",
   "pygments_lexer": "ipython3",
   "version": "3.6.3"
  }
 },
 "nbformat": 4,
 "nbformat_minor": 2
}
